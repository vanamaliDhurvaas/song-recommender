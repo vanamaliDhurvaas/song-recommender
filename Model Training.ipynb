{
 "cells": [
  {
   "cell_type": "code",
   "execution_count": 69,
   "id": "63e5cff6-2d7f-4751-b78e-04558e4127c0",
   "metadata": {},
   "outputs": [],
   "source": [
    "import pandas as pd"
   ]
  },
  {
   "cell_type": "code",
   "execution_count": 70,
   "id": "af52bf29-7cec-48e9-9d63-8b0c910305bb",
   "metadata": {},
   "outputs": [],
   "source": [
    "df = pd.read_csv(\"spotify_millsongdata.csv\")"
   ]
  },
  {
   "cell_type": "code",
   "execution_count": 71,
   "id": "bc6105e8-a269-4f82-86a3-292dbc47b8c6",
   "metadata": {},
   "outputs": [
    {
     "data": {
      "text/html": [
       "<div>\n",
       "<style scoped>\n",
       "    .dataframe tbody tr th:only-of-type {\n",
       "        vertical-align: middle;\n",
       "    }\n",
       "\n",
       "    .dataframe tbody tr th {\n",
       "        vertical-align: top;\n",
       "    }\n",
       "\n",
       "    .dataframe thead th {\n",
       "        text-align: right;\n",
       "    }\n",
       "</style>\n",
       "<table border=\"1\" class=\"dataframe\">\n",
       "  <thead>\n",
       "    <tr style=\"text-align: right;\">\n",
       "      <th></th>\n",
       "      <th>artist</th>\n",
       "      <th>song</th>\n",
       "      <th>link</th>\n",
       "      <th>text</th>\n",
       "    </tr>\n",
       "  </thead>\n",
       "  <tbody>\n",
       "    <tr>\n",
       "      <th>0</th>\n",
       "      <td>ABBA</td>\n",
       "      <td>Ahe's My Kind Of Girl</td>\n",
       "      <td>/a/abba/ahes+my+kind+of+girl_20598417.html</td>\n",
       "      <td>Look at her face, it's a wonderful face  \\r\\nA...</td>\n",
       "    </tr>\n",
       "    <tr>\n",
       "      <th>1</th>\n",
       "      <td>ABBA</td>\n",
       "      <td>Andante, Andante</td>\n",
       "      <td>/a/abba/andante+andante_20002708.html</td>\n",
       "      <td>Take it easy with me, please  \\r\\nTouch me gen...</td>\n",
       "    </tr>\n",
       "    <tr>\n",
       "      <th>2</th>\n",
       "      <td>ABBA</td>\n",
       "      <td>As Good As New</td>\n",
       "      <td>/a/abba/as+good+as+new_20003033.html</td>\n",
       "      <td>I'll never know why I had to go  \\r\\nWhy I had...</td>\n",
       "    </tr>\n",
       "    <tr>\n",
       "      <th>3</th>\n",
       "      <td>ABBA</td>\n",
       "      <td>Bang</td>\n",
       "      <td>/a/abba/bang_20598415.html</td>\n",
       "      <td>Making somebody happy is a question of give an...</td>\n",
       "    </tr>\n",
       "    <tr>\n",
       "      <th>4</th>\n",
       "      <td>ABBA</td>\n",
       "      <td>Bang-A-Boomerang</td>\n",
       "      <td>/a/abba/bang+a+boomerang_20002668.html</td>\n",
       "      <td>Making somebody happy is a question of give an...</td>\n",
       "    </tr>\n",
       "  </tbody>\n",
       "</table>\n",
       "</div>"
      ],
      "text/plain": [
       "  artist                   song                                        link  \\\n",
       "0   ABBA  Ahe's My Kind Of Girl  /a/abba/ahes+my+kind+of+girl_20598417.html   \n",
       "1   ABBA       Andante, Andante       /a/abba/andante+andante_20002708.html   \n",
       "2   ABBA         As Good As New        /a/abba/as+good+as+new_20003033.html   \n",
       "3   ABBA                   Bang                  /a/abba/bang_20598415.html   \n",
       "4   ABBA       Bang-A-Boomerang      /a/abba/bang+a+boomerang_20002668.html   \n",
       "\n",
       "                                                text  \n",
       "0  Look at her face, it's a wonderful face  \\r\\nA...  \n",
       "1  Take it easy with me, please  \\r\\nTouch me gen...  \n",
       "2  I'll never know why I had to go  \\r\\nWhy I had...  \n",
       "3  Making somebody happy is a question of give an...  \n",
       "4  Making somebody happy is a question of give an...  "
      ]
     },
     "execution_count": 71,
     "metadata": {},
     "output_type": "execute_result"
    }
   ],
   "source": [
    "df.head()"
   ]
  },
  {
   "cell_type": "code",
   "execution_count": 72,
   "id": "46f8a93d-41cc-421b-bc12-18dc4b201cc8",
   "metadata": {},
   "outputs": [],
   "source": [
    "df = df.sample(5000).drop('link', axis=1).reset_index(drop=True)"
   ]
  },
  {
   "cell_type": "code",
   "execution_count": 73,
   "id": "fd83bc0b-7bc0-4f67-8259-c5b6b24bc268",
   "metadata": {},
   "outputs": [
    {
     "data": {
      "text/html": [
       "<div>\n",
       "<style scoped>\n",
       "    .dataframe tbody tr th:only-of-type {\n",
       "        vertical-align: middle;\n",
       "    }\n",
       "\n",
       "    .dataframe tbody tr th {\n",
       "        vertical-align: top;\n",
       "    }\n",
       "\n",
       "    .dataframe thead th {\n",
       "        text-align: right;\n",
       "    }\n",
       "</style>\n",
       "<table border=\"1\" class=\"dataframe\">\n",
       "  <thead>\n",
       "    <tr style=\"text-align: right;\">\n",
       "      <th></th>\n",
       "      <th>artist</th>\n",
       "      <th>song</th>\n",
       "      <th>text</th>\n",
       "    </tr>\n",
       "  </thead>\n",
       "  <tbody>\n",
       "    <tr>\n",
       "      <th>0</th>\n",
       "      <td>Bruno Mars</td>\n",
       "      <td>Lights</td>\n",
       "      <td>Dim all the lights sweet darling  \\r\\nCause to...</td>\n",
       "    </tr>\n",
       "    <tr>\n",
       "      <th>1</th>\n",
       "      <td>Kelly Clarkson</td>\n",
       "      <td>Think Twice</td>\n",
       "      <td>Ooh  \\r\\nDon't think I can't feel there's some...</td>\n",
       "    </tr>\n",
       "    <tr>\n",
       "      <th>2</th>\n",
       "      <td>Leonard Cohen</td>\n",
       "      <td>The Traitor</td>\n",
       "      <td>Now the Swan it floated on the English river  ...</td>\n",
       "    </tr>\n",
       "    <tr>\n",
       "      <th>3</th>\n",
       "      <td>Crowded House</td>\n",
       "      <td>I Walk Away</td>\n",
       "      <td>You came  \\r\\nOut of this world to me  \\r\\nMy ...</td>\n",
       "    </tr>\n",
       "    <tr>\n",
       "      <th>4</th>\n",
       "      <td>Bread</td>\n",
       "      <td>Ann</td>\n",
       "      <td>Ann a-sleepin' on my bed  \\r\\nHair a-tumblin''...</td>\n",
       "    </tr>\n",
       "    <tr>\n",
       "      <th>5</th>\n",
       "      <td>Kate Bush</td>\n",
       "      <td>Kite</td>\n",
       "      <td>(Come up and be a kite)  \\r\\n  \\r\\nBeelzebub i...</td>\n",
       "    </tr>\n",
       "    <tr>\n",
       "      <th>6</th>\n",
       "      <td>John Mellencamp</td>\n",
       "      <td>In Our Lives</td>\n",
       "      <td>Well I'm a middle-aged teenager  \\r\\nI'm a man...</td>\n",
       "    </tr>\n",
       "    <tr>\n",
       "      <th>7</th>\n",
       "      <td>Uriah Heep</td>\n",
       "      <td>Tales</td>\n",
       "      <td>We told our tales as we sat under  \\r\\nMorning...</td>\n",
       "    </tr>\n",
       "    <tr>\n",
       "      <th>8</th>\n",
       "      <td>Justin Timberlake</td>\n",
       "      <td>Hootnanny</td>\n",
       "      <td>I could go number one ten times  \\r\\nPretty gi...</td>\n",
       "    </tr>\n",
       "    <tr>\n",
       "      <th>9</th>\n",
       "      <td>Kylie Minogue</td>\n",
       "      <td>Feels So Good</td>\n",
       "      <td>I realize, realize  \\r\\nI get a little bit wil...</td>\n",
       "    </tr>\n",
       "  </tbody>\n",
       "</table>\n",
       "</div>"
      ],
      "text/plain": [
       "              artist           song  \\\n",
       "0         Bruno Mars         Lights   \n",
       "1     Kelly Clarkson    Think Twice   \n",
       "2      Leonard Cohen    The Traitor   \n",
       "3      Crowded House    I Walk Away   \n",
       "4              Bread            Ann   \n",
       "5          Kate Bush           Kite   \n",
       "6    John Mellencamp   In Our Lives   \n",
       "7         Uriah Heep          Tales   \n",
       "8  Justin Timberlake      Hootnanny   \n",
       "9      Kylie Minogue  Feels So Good   \n",
       "\n",
       "                                                text  \n",
       "0  Dim all the lights sweet darling  \\r\\nCause to...  \n",
       "1  Ooh  \\r\\nDon't think I can't feel there's some...  \n",
       "2  Now the Swan it floated on the English river  ...  \n",
       "3  You came  \\r\\nOut of this world to me  \\r\\nMy ...  \n",
       "4  Ann a-sleepin' on my bed  \\r\\nHair a-tumblin''...  \n",
       "5  (Come up and be a kite)  \\r\\n  \\r\\nBeelzebub i...  \n",
       "6  Well I'm a middle-aged teenager  \\r\\nI'm a man...  \n",
       "7  We told our tales as we sat under  \\r\\nMorning...  \n",
       "8  I could go number one ten times  \\r\\nPretty gi...  \n",
       "9  I realize, realize  \\r\\nI get a little bit wil...  "
      ]
     },
     "execution_count": 73,
     "metadata": {},
     "output_type": "execute_result"
    }
   ],
   "source": [
    "df.head(10)"
   ]
  },
  {
   "cell_type": "code",
   "execution_count": 74,
   "id": "bdf2dad5-06f1-43d5-8b6b-2de919917a02",
   "metadata": {},
   "outputs": [
    {
     "data": {
      "text/plain": [
       "\"Dim all the lights sweet darling  \\r\\nCause tonight it's all the way  \\r\\nTurn up the old Victrola  \\r\\nGonna dance the night away  \\r\\n  \\r\\nLove just don't come easy  \\r\\nNo it seldom does  \\r\\nWhen you find the perfect love  \\r\\nLet it fill you up  \\r\\n  \\r\\nDim all the lights sweet darling  \\r\\nCause tonight it's all the way, hey baby  \\r\\nTurn up the old Victrola  \\r\\nGonna dance the night away  \\r\\n  \\r\\nLove just don't come easy  \\r\\nNo it seldom does  \\r\\nWhen you find the perfect love  \\r\\nLet it fill you up  \\r\\n  \\r\\nDim all the light sweet honey  \\r\\nCause tonight it's you and me  \\r\\nNo need to worry darlin'  \\r\\nCause it's for eternity  \\r\\n  \\r\\nLove don't come easy  \\r\\nThis you know I understand  \\r\\nI want to be your woman  \\r\\nIf you'll be my man  \\r\\nLet yourself go freely and I'll  \\r\\nShow you things that you've dreamed of  \\r\\nDon't think that your dreaming  \\r\\nWe've found the perfect love  \\r\\nAnd I'm like a cup  \\r\\nSo fill me up  \\r\\n  \\r\\nDim all the lights sweet darlin'  \\r\\nCause the night is on the way, oh baby  \\r\\nTurn up the old Victrola  \\r\\nGonna dance the night away  \\r\\n  \\r\\nDo what you want  \\r\\nYou can use me all up  \\r\\nTake me bottom to top  \\r\\nDon't leave even one drop  \\r\\nNo, no, no  \\r\\nDo it tonight  \\r\\nYou know the moments are right  \\r\\nTurn my brown body white  \\r\\nCome on, dim all the lights  \\r\\n  \\r\\nDim all the lights sweet darlin'  \\r\\nCause the night is on the way, hey baby  \\r\\nTurn up the old Victrola  \\r\\nGonna dance the night away, hey baby  \\r\\nDim all the lights sweet darlin'  \\r\\nDim all the lights sweet honey...\\r\\n\\r\\n\""
      ]
     },
     "execution_count": 74,
     "metadata": {},
     "output_type": "execute_result"
    }
   ],
   "source": [
    "df['text'][0]"
   ]
  },
  {
   "cell_type": "code",
   "execution_count": null,
   "id": "2475c06e-7d1e-4277-b8ab-9c6a8ee913b5",
   "metadata": {},
   "outputs": [],
   "source": []
  },
  {
   "cell_type": "code",
   "execution_count": 75,
   "id": "84d241f2-d2d4-48b9-8371-8ebde1caaabf",
   "metadata": {},
   "outputs": [
    {
     "data": {
      "text/plain": [
       "(5000, 3)"
      ]
     },
     "execution_count": 75,
     "metadata": {},
     "output_type": "execute_result"
    }
   ],
   "source": [
    "df.shape"
   ]
  },
  {
   "cell_type": "markdown",
   "id": "9611709f-f457-44a6-9d50-f493f3b14531",
   "metadata": {},
   "source": [
    "Text Cleaning / Processing"
   ]
  },
  {
   "cell_type": "code",
   "execution_count": 76,
   "id": "6027b66a-1985-4ca8-aa40-edf5de23b35c",
   "metadata": {},
   "outputs": [],
   "source": [
    "df['text'] = df['text'].str.lower().replace(r'^\\w\\s', ' ').replace(r'\\n', ' ', regex = True)"
   ]
  },
  {
   "cell_type": "code",
   "execution_count": 77,
   "id": "0af014db-96ee-4887-9e50-8d8b56f7561c",
   "metadata": {},
   "outputs": [
    {
     "data": {
      "text/html": [
       "<div>\n",
       "<style scoped>\n",
       "    .dataframe tbody tr th:only-of-type {\n",
       "        vertical-align: middle;\n",
       "    }\n",
       "\n",
       "    .dataframe tbody tr th {\n",
       "        vertical-align: top;\n",
       "    }\n",
       "\n",
       "    .dataframe thead th {\n",
       "        text-align: right;\n",
       "    }\n",
       "</style>\n",
       "<table border=\"1\" class=\"dataframe\">\n",
       "  <thead>\n",
       "    <tr style=\"text-align: right;\">\n",
       "      <th></th>\n",
       "      <th>artist</th>\n",
       "      <th>song</th>\n",
       "      <th>text</th>\n",
       "    </tr>\n",
       "  </thead>\n",
       "  <tbody>\n",
       "    <tr>\n",
       "      <th>4995</th>\n",
       "      <td>Amy Grant</td>\n",
       "      <td>Giggle</td>\n",
       "      <td>giggle  \\r giggle if you want to  \\r but i kno...</td>\n",
       "    </tr>\n",
       "    <tr>\n",
       "      <th>4996</th>\n",
       "      <td>Carly Simon</td>\n",
       "      <td>If I Wasn't So Small (The Piglet Song)</td>\n",
       "      <td>it's not as if i want to rule the world  \\r or...</td>\n",
       "    </tr>\n",
       "    <tr>\n",
       "      <th>4997</th>\n",
       "      <td>Nightwish</td>\n",
       "      <td>The Carpenter</td>\n",
       "      <td>who are you?  \\r man condemned to shine a salv...</td>\n",
       "    </tr>\n",
       "    <tr>\n",
       "      <th>4998</th>\n",
       "      <td>Old 97's</td>\n",
       "      <td>Niteclub</td>\n",
       "      <td>eighteen-hundred miles from this old niteclub ...</td>\n",
       "    </tr>\n",
       "    <tr>\n",
       "      <th>4999</th>\n",
       "      <td>Status Quo</td>\n",
       "      <td>Nanana</td>\n",
       "      <td>writing songs that i think sound so strange  \\...</td>\n",
       "    </tr>\n",
       "  </tbody>\n",
       "</table>\n",
       "</div>"
      ],
      "text/plain": [
       "           artist                                    song  \\\n",
       "4995    Amy Grant                                  Giggle   \n",
       "4996  Carly Simon  If I Wasn't So Small (The Piglet Song)   \n",
       "4997    Nightwish                           The Carpenter   \n",
       "4998     Old 97's                                Niteclub   \n",
       "4999   Status Quo                                  Nanana   \n",
       "\n",
       "                                                   text  \n",
       "4995  giggle  \\r giggle if you want to  \\r but i kno...  \n",
       "4996  it's not as if i want to rule the world  \\r or...  \n",
       "4997  who are you?  \\r man condemned to shine a salv...  \n",
       "4998  eighteen-hundred miles from this old niteclub ...  \n",
       "4999  writing songs that i think sound so strange  \\...  "
      ]
     },
     "execution_count": 77,
     "metadata": {},
     "output_type": "execute_result"
    }
   ],
   "source": [
    "df.tail(5)"
   ]
  },
  {
   "cell_type": "code",
   "execution_count": 78,
   "id": "dab44e0b-5ba1-491b-abe4-475b0dcd2eea",
   "metadata": {},
   "outputs": [],
   "source": [
    "import nltk\n",
    "from nltk.stem.porter import PorterStemmer"
   ]
  },
  {
   "cell_type": "code",
   "execution_count": 79,
   "id": "29e41f26-0477-4946-a0a2-8f7ab6e456fa",
   "metadata": {},
   "outputs": [],
   "source": [
    "from nltk import word_tokenize"
   ]
  },
  {
   "cell_type": "code",
   "execution_count": 80,
   "id": "263ad586-97f0-4403-9596-ca774f7a0ca6",
   "metadata": {},
   "outputs": [
    {
     "name": "stderr",
     "output_type": "stream",
     "text": [
      "[nltk_data] Downloading package punkt to\n",
      "[nltk_data]     C:\\Users\\vanam\\AppData\\Roaming\\nltk_data...\n",
      "[nltk_data]   Package punkt is already up-to-date!\n"
     ]
    },
    {
     "data": {
      "text/plain": [
       "True"
      ]
     },
     "execution_count": 80,
     "metadata": {},
     "output_type": "execute_result"
    }
   ],
   "source": [
    "nltk.download('punkt')"
   ]
  },
  {
   "cell_type": "code",
   "execution_count": 81,
   "id": "4d802e0b-9503-4aab-abbf-52fc64534f8d",
   "metadata": {},
   "outputs": [],
   "source": [
    "stemmer = PorterStemmer()"
   ]
  },
  {
   "cell_type": "code",
   "execution_count": 82,
   "id": "d1912319-9985-4b74-ac78-48c3a859f693",
   "metadata": {},
   "outputs": [],
   "source": [
    "def token(txt):\n",
    "    token = nltk.word_tokenize(txt)\n",
    "    a = [stemmer.stem(w) for w in token]\n",
    "    return \" \".join(a)"
   ]
  },
  {
   "cell_type": "code",
   "execution_count": 83,
   "id": "06184023-cdaf-444b-acbe-78d6fafed43e",
   "metadata": {},
   "outputs": [
    {
     "data": {
      "text/plain": [
       "'you are beauti , beauti'"
      ]
     },
     "execution_count": 83,
     "metadata": {},
     "output_type": "execute_result"
    }
   ],
   "source": [
    "token(\"you are beautiful, beauty\")"
   ]
  },
  {
   "cell_type": "code",
   "execution_count": 84,
   "id": "95392996-b48a-4e59-a9f8-6eaae6741929",
   "metadata": {},
   "outputs": [
    {
     "data": {
      "text/plain": [
       "0       dim all the light sweet darl caus tonight it '...\n",
       "1       ooh do n't think i ca n't feel there 's someth...\n",
       "2       now the swan it float on the english river ah ...\n",
       "3       you came out of thi world to me my life part l...\n",
       "4       ann a-sleepin ' on my bed hair a-tumblin '' ro...\n",
       "                              ...                        \n",
       "4995    giggl giggl if you want to but i know it 's st...\n",
       "4996    it 's not as if i want to rule the world or ev...\n",
       "4997    who are you ? man condemn to shine a salvat th...\n",
       "4998    eighteen-hundr mile from thi old niteclub a gi...\n",
       "4999    write song that i think sound so strang write ...\n",
       "Name: text, Length: 5000, dtype: object"
      ]
     },
     "execution_count": 84,
     "metadata": {},
     "output_type": "execute_result"
    }
   ],
   "source": [
    "df['text'].apply(lambda x: token(x))"
   ]
  },
  {
   "cell_type": "code",
   "execution_count": 85,
   "id": "b571df9e-5669-4680-8d78-c5e6d87dfd0f",
   "metadata": {},
   "outputs": [],
   "source": [
    "from sklearn.feature_extraction.text import TfidfVectorizer\n",
    "from sklearn.metrics.pairwise import cosine_similarity"
   ]
  },
  {
   "cell_type": "code",
   "execution_count": 86,
   "id": "8b65ce1a-1289-45b4-8cee-9c19a89d6ebb",
   "metadata": {},
   "outputs": [],
   "source": [
    "tfid = TfidfVectorizer(analyzer='word', stop_words='english')"
   ]
  },
  {
   "cell_type": "code",
   "execution_count": 87,
   "id": "0e96593b-0378-4af7-8370-91cd83ccd0f3",
   "metadata": {},
   "outputs": [],
   "source": [
    "matrix = tfid.fit_transform(df['text'])"
   ]
  },
  {
   "cell_type": "code",
   "execution_count": 88,
   "id": "dba09e10-ca00-4422-ae02-0f64af702d95",
   "metadata": {},
   "outputs": [],
   "source": [
    "similar = cosine_similarity(matrix)"
   ]
  },
  {
   "cell_type": "code",
   "execution_count": 89,
   "id": "c1427bdb-81cb-4bcc-8bfa-2a89e1a068d8",
   "metadata": {},
   "outputs": [
    {
     "data": {
      "text/plain": [
       "array([1.        , 0.0844491 , 0.01149226, ..., 0.00610437, 0.05971647,\n",
       "       0.00241543])"
      ]
     },
     "execution_count": 89,
     "metadata": {},
     "output_type": "execute_result"
    }
   ],
   "source": [
    "similar[0]"
   ]
  },
  {
   "cell_type": "markdown",
   "id": "b3858901-a08c-495a-8c78-eafc6f743fb8",
   "metadata": {},
   "source": [
    "Recommneder Function"
   ]
  },
  {
   "cell_type": "code",
   "execution_count": 93,
   "id": "7ac020a7-a1e2-4ea1-9f87-81294b6924e1",
   "metadata": {},
   "outputs": [],
   "source": [
    "def recommender(song_name):\n",
    "    idx = df[df['song']==song_name].index[0]\n",
    "    distance = sorted(list(enumerate(similar[idx])), reverse=True, key = lambda x:x[1])\n",
    "    song = []\n",
    "    for s_id in distance[1:5]:\n",
    "        song.append(df.iloc[s_id[0]].song)\n",
    "    return song"
   ]
  },
  {
   "cell_type": "code",
   "execution_count": 95,
   "id": "d1b64ba7-acc8-4ed1-ba4a-e9d8c9d1c7c2",
   "metadata": {},
   "outputs": [
    {
     "data": {
      "text/plain": [
       "['I Stole Your Love', 'Just Like Fire Would', 'Nine Tonight', 'I Got Drunk']"
      ]
     },
     "execution_count": 95,
     "metadata": {},
     "output_type": "execute_result"
    }
   ],
   "source": [
    "recommender(\"Niteclub\")"
   ]
  },
  {
   "cell_type": "code",
   "execution_count": 123,
   "id": "3409ed58-b7dd-45f9-95c0-390164651256",
   "metadata": {},
   "outputs": [],
   "source": [
    "import pickle"
   ]
  },
  {
   "cell_type": "code",
   "execution_count": 124,
   "id": "a1ae12eb-5004-4b97-a5ef-8ddd0203fd47",
   "metadata": {},
   "outputs": [],
   "source": [
    "pickle.dump(similar, open(\"similarity.pkl\", \"wb\"))"
   ]
  },
  {
   "cell_type": "code",
   "execution_count": 125,
   "id": "cf8517fa-80ca-4c94-8e99-7c484af2eb66",
   "metadata": {},
   "outputs": [],
   "source": [
    "pickle.dump(df, open(\"df.pkl\", \"wb\"))"
   ]
  },
  {
   "cell_type": "code",
   "execution_count": 126,
   "id": "89e03ca0-ca02-467d-9ec8-4bc2fbe78279",
   "metadata": {},
   "outputs": [
    {
     "data": {
      "text/plain": [
       "array([[1.00000000e+00, 8.44491044e-02, 1.14922637e-02, ...,\n",
       "        6.10437242e-03, 5.97164686e-02, 2.41543457e-03],\n",
       "       [8.44491044e-02, 1.00000000e+00, 1.06019180e-02, ...,\n",
       "        0.00000000e+00, 2.21495421e-02, 4.26312128e-03],\n",
       "       [1.14922637e-02, 1.06019180e-02, 1.00000000e+00, ...,\n",
       "        4.55513280e-03, 7.89021032e-04, 1.29596236e-04],\n",
       "       ...,\n",
       "       [6.10437242e-03, 0.00000000e+00, 4.55513280e-03, ...,\n",
       "        1.00000000e+00, 5.09156165e-03, 0.00000000e+00],\n",
       "       [5.97164686e-02, 2.21495421e-02, 7.89021032e-04, ...,\n",
       "        5.09156165e-03, 1.00000000e+00, 1.02495657e-03],\n",
       "       [2.41543457e-03, 4.26312128e-03, 1.29596236e-04, ...,\n",
       "        0.00000000e+00, 1.02495657e-03, 1.00000000e+00]])"
      ]
     },
     "execution_count": 126,
     "metadata": {},
     "output_type": "execute_result"
    }
   ],
   "source": [
    "pickle.load(open(\"similarity.pkl\", \"rb\"))"
   ]
  },
  {
   "cell_type": "code",
   "execution_count": null,
   "id": "e50bea2e-505f-4d79-b8af-d695af4b5c34",
   "metadata": {},
   "outputs": [],
   "source": []
  }
 ],
 "metadata": {
  "kernelspec": {
   "display_name": "Python 3 (ipykernel)",
   "language": "python",
   "name": "python3"
  },
  "language_info": {
   "codemirror_mode": {
    "name": "ipython",
    "version": 3
   },
   "file_extension": ".py",
   "mimetype": "text/x-python",
   "name": "python",
   "nbconvert_exporter": "python",
   "pygments_lexer": "ipython3",
   "version": "3.11.9"
  }
 },
 "nbformat": 4,
 "nbformat_minor": 5
}
